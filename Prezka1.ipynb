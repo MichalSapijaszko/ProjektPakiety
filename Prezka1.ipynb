{
 "cells": [
  {
   "attachments": {},
   "cell_type": "markdown",
   "metadata": {},
   "source": [
    "Żubry fajne zwierza ja je lubie pić np.\n",
    "\n",
    "I one sb umierają\n",
    "\n",
    "Więc tutaj na modelu pokazujemy jak bedą umierać sadeg\n",
    "skill issue\n",
    "\n",
    "Ślęzak weebie daj 45/50"
   ]
  }
 ],
 "metadata": {
  "kernelspec": {
   "display_name": "Julia 1.8.5",
   "language": "julia",
   "name": "julia-1.8"
  },
  "language_info": {
   "file_extension": ".jl",
   "mimetype": "application/julia",
   "name": "julia",
   "version": "1.8.5"
  },
  "orig_nbformat": 4
 },
 "nbformat": 4,
 "nbformat_minor": 2
}
